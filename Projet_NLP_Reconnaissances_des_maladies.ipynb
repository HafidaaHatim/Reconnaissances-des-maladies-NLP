{
 "cells": [
  {
   "cell_type": "markdown",
   "id": "34ccc2c4",
   "metadata": {},
   "source": [
    "# 1.Importation des bibliothèques : "
   ]
  },
  {
   "cell_type": "code",
   "execution_count": 28,
   "id": "71edbb7a",
   "metadata": {},
   "outputs": [],
   "source": [
    "import pandas as pd \n",
    "import re\n",
    "import nltk\n",
    "from nltk.tokenize import word_tokenize\n",
    "from nltk.corpus import stopwords \n",
    "from nltk.stem.porter import PorterStemmer\n",
    "from nltk.stem import WordNetLemmatizer\n",
    "import string\n",
    "import matplotlib.pyplot as plt\n"
   ]
  },
  {
   "cell_type": "markdown",
   "id": "2156ab50",
   "metadata": {},
   "source": [
    "# 2.Chargement des données :"
   ]
  },
  {
   "cell_type": "code",
   "execution_count": 2,
   "id": "a70c9418",
   "metadata": {},
   "outputs": [],
   "source": [
    "df=pd.read_csv(\"phrase_disease_data.csv\")"
   ]
  },
  {
   "cell_type": "code",
   "execution_count": 3,
   "id": "a8c3b512",
   "metadata": {},
   "outputs": [
    {
     "data": {
      "text/html": [
       "<div>\n",
       "<style scoped>\n",
       "    .dataframe tbody tr th:only-of-type {\n",
       "        vertical-align: middle;\n",
       "    }\n",
       "\n",
       "    .dataframe tbody tr th {\n",
       "        vertical-align: top;\n",
       "    }\n",
       "\n",
       "    .dataframe thead th {\n",
       "        text-align: right;\n",
       "    }\n",
       "</style>\n",
       "<table border=\"1\" class=\"dataframe\">\n",
       "  <thead>\n",
       "    <tr style=\"text-align: right;\">\n",
       "      <th></th>\n",
       "      <th>prompt</th>\n",
       "      <th>phrase</th>\n",
       "    </tr>\n",
       "  </thead>\n",
       "  <tbody>\n",
       "    <tr>\n",
       "      <th>0</th>\n",
       "      <td>Emotional pain</td>\n",
       "      <td>When I remember her I feel down</td>\n",
       "    </tr>\n",
       "    <tr>\n",
       "      <th>1</th>\n",
       "      <td>Hair falling out</td>\n",
       "      <td>When I carry heavy things I feel like breaking...</td>\n",
       "    </tr>\n",
       "    <tr>\n",
       "      <th>2</th>\n",
       "      <td>Heart hurts</td>\n",
       "      <td>there is too much pain when i move my arm</td>\n",
       "    </tr>\n",
       "    <tr>\n",
       "      <th>3</th>\n",
       "      <td>Infected wound</td>\n",
       "      <td>My son had his lip pierced and it is swollen a...</td>\n",
       "    </tr>\n",
       "    <tr>\n",
       "      <th>4</th>\n",
       "      <td>Infected wound</td>\n",
       "      <td>My muscles in my lower back are aching</td>\n",
       "    </tr>\n",
       "    <tr>\n",
       "      <th>...</th>\n",
       "      <td>...</td>\n",
       "      <td>...</td>\n",
       "    </tr>\n",
       "    <tr>\n",
       "      <th>6645</th>\n",
       "      <td>Stomach ache</td>\n",
       "      <td>I feel a burning sensation in my guts about 2 ...</td>\n",
       "    </tr>\n",
       "    <tr>\n",
       "      <th>6646</th>\n",
       "      <td>Open wound</td>\n",
       "      <td>I have a split on my thumb that will not heal.</td>\n",
       "    </tr>\n",
       "    <tr>\n",
       "      <th>6647</th>\n",
       "      <td>Joint pain</td>\n",
       "      <td>I feel a lot of pain in the joints.</td>\n",
       "    </tr>\n",
       "    <tr>\n",
       "      <th>6648</th>\n",
       "      <td>Heart hurts</td>\n",
       "      <td>The area around my heart doesn't feel good.</td>\n",
       "    </tr>\n",
       "    <tr>\n",
       "      <th>6649</th>\n",
       "      <td>Skin issue</td>\n",
       "      <td>I complain alot with skin allergy</td>\n",
       "    </tr>\n",
       "  </tbody>\n",
       "</table>\n",
       "<p>6650 rows × 2 columns</p>\n",
       "</div>"
      ],
      "text/plain": [
       "                prompt                                             phrase\n",
       "0       Emotional pain                    When I remember her I feel down\n",
       "1     Hair falling out  When I carry heavy things I feel like breaking...\n",
       "2          Heart hurts          there is too much pain when i move my arm\n",
       "3       Infected wound  My son had his lip pierced and it is swollen a...\n",
       "4       Infected wound             My muscles in my lower back are aching\n",
       "...                ...                                                ...\n",
       "6645      Stomach ache  I feel a burning sensation in my guts about 2 ...\n",
       "6646        Open wound     I have a split on my thumb that will not heal.\n",
       "6647        Joint pain                I feel a lot of pain in the joints.\n",
       "6648       Heart hurts        The area around my heart doesn't feel good.\n",
       "6649        Skin issue                  I complain alot with skin allergy\n",
       "\n",
       "[6650 rows x 2 columns]"
      ]
     },
     "execution_count": 3,
     "metadata": {},
     "output_type": "execute_result"
    }
   ],
   "source": [
    "df"
   ]
  },
  {
   "cell_type": "code",
   "execution_count": 4,
   "id": "23750a31",
   "metadata": {},
   "outputs": [
    {
     "data": {
      "text/plain": [
       "0                         When I remember her I feel down\n",
       "1       When I carry heavy things I feel like breaking...\n",
       "2               there is too much pain when i move my arm\n",
       "3       My son had his lip pierced and it is swollen a...\n",
       "4                  My muscles in my lower back are aching\n",
       "                              ...                        \n",
       "6645    I feel a burning sensation in my guts about 2 ...\n",
       "6646       I have a split on my thumb that will not heal.\n",
       "6647                  I feel a lot of pain in the joints.\n",
       "6648          The area around my heart doesn't feel good.\n",
       "6649                    I complain alot with skin allergy\n",
       "Name: phrase, Length: 6650, dtype: object"
      ]
     },
     "execution_count": 4,
     "metadata": {},
     "output_type": "execute_result"
    }
   ],
   "source": [
    "df['phrase']"
   ]
  },
  {
   "cell_type": "markdown",
   "id": "e3968254",
   "metadata": {},
   "source": [
    "# 3.Prétraitement des données :  "
   ]
  },
  {
   "cell_type": "markdown",
   "id": "1baa4747",
   "metadata": {},
   "source": [
    "## 3.1 Supprimer les ponctuation"
   ]
  },
  {
   "cell_type": "code",
   "execution_count": 5,
   "id": "02a8789a",
   "metadata": {},
   "outputs": [
    {
     "data": {
      "text/plain": [
       "'!\"#$%&\\'()*+,-./:;<=>?@[\\\\]^_`{|}~'"
      ]
     },
     "execution_count": 5,
     "metadata": {},
     "output_type": "execute_result"
    }
   ],
   "source": [
    "import string\n",
    "string.punctuation"
   ]
  },
  {
   "cell_type": "code",
   "execution_count": 6,
   "id": "4c198fdc",
   "metadata": {},
   "outputs": [],
   "source": [
    "def remove_punctuations(text):\n",
    "    punctuation=string.punctuation\n",
    "    for char in punctuation:\n",
    "        text=text.replace(char,'')\n",
    "    return text"
   ]
  },
  {
   "cell_type": "code",
   "execution_count": 7,
   "id": "93fa63bd",
   "metadata": {},
   "outputs": [
    {
     "data": {
      "text/plain": [
       "0                      When I remember her I feel down\n",
       "1    When I carry heavy things I feel like breaking...\n",
       "2            there is too much pain when i move my arm\n",
       "3    My son had his lip pierced and it is swollen a...\n",
       "4               My muscles in my lower back are aching\n",
       "Name: clean_phrase, dtype: object"
      ]
     },
     "execution_count": 7,
     "metadata": {},
     "output_type": "execute_result"
    }
   ],
   "source": [
    "df['clean_phrase']=df['phrase'].apply(lambda x: remove_punctuations(x) )\n",
    "df['clean_phrase'].head()"
   ]
  },
  {
   "cell_type": "markdown",
   "id": "f069b50f",
   "metadata": {},
   "source": [
    "## 3.2 Tokenization "
   ]
  },
  {
   "cell_type": "code",
   "execution_count": 8,
   "id": "f078467d",
   "metadata": {},
   "outputs": [],
   "source": [
    "def tokenisation(text):\n",
    " \n",
    "    tokens = nltk.word_tokenize(text)\n",
    "    return tokens"
   ]
  },
  {
   "cell_type": "code",
   "execution_count": 9,
   "id": "6b2e8752",
   "metadata": {},
   "outputs": [
    {
     "data": {
      "text/plain": [
       "0              [When, I, remember, her, I, feel, down]\n",
       "1    [When, I, carry, heavy, things, I, feel, like,...\n",
       "2    [there, is, too, much, pain, when, i, move, my...\n",
       "3    [My, son, had, his, lip, pierced, and, it, is,...\n",
       "4      [My, muscles, in, my, lower, back, are, aching]\n",
       "Name: tokens_phrase, dtype: object"
      ]
     },
     "execution_count": 9,
     "metadata": {},
     "output_type": "execute_result"
    }
   ],
   "source": [
    "df['tokens_phrase']=df['clean_phrase'].apply(lambda x: tokenisation(x) )\n",
    "df['tokens_phrase'].head()"
   ]
  },
  {
   "cell_type": "markdown",
   "id": "53193b32",
   "metadata": {},
   "source": [
    "## 3.3 Supprimer les stops words "
   ]
  },
  {
   "cell_type": "code",
   "execution_count": 10,
   "id": "4354ca85",
   "metadata": {},
   "outputs": [],
   "source": [
    "def removed_stopwords(text):\n",
    "    A=[word for word in text if word not in stopwords.words('english')]\n",
    "    return A"
   ]
  },
  {
   "cell_type": "code",
   "execution_count": 11,
   "id": "10897073",
   "metadata": {},
   "outputs": [
    {
     "data": {
      "text/plain": [
       "0                         [When, I, remember, I, feel]\n",
       "1    [When, I, carry, heavy, things, I, feel, like,...\n",
       "2                              [much, pain, move, arm]\n",
       "3    [My, son, lip, pierced, swollen, skin, inside,...\n",
       "4                   [My, muscles, lower, back, aching]\n",
       "Name: clean_phrase, dtype: object"
      ]
     },
     "execution_count": 11,
     "metadata": {},
     "output_type": "execute_result"
    }
   ],
   "source": [
    "df['clean_phrase']=df['tokens_phrase'].apply(lambda x: removed_stopwords(x) )\n",
    "df['clean_phrase'].head()"
   ]
  },
  {
   "cell_type": "markdown",
   "id": "56ea0ea2",
   "metadata": {},
   "source": [
    "## 3.4 stemming "
   ]
  },
  {
   "cell_type": "code",
   "execution_count": 12,
   "id": "d340e215",
   "metadata": {},
   "outputs": [],
   "source": [
    "ps = PorterStemmer()"
   ]
  },
  {
   "cell_type": "code",
   "execution_count": 13,
   "id": "2975f60b",
   "metadata": {},
   "outputs": [],
   "source": [
    "\n",
    "def stem_words(text):\n",
    "    \n",
    "     stem=[ps.stem(word) for word in text]\n",
    "    \n",
    "     return stem"
   ]
  },
  {
   "cell_type": "code",
   "execution_count": 14,
   "id": "e20a1ea0",
   "metadata": {},
   "outputs": [
    {
     "data": {
      "text/plain": [
       "0                           [when, i, rememb, i, feel]\n",
       "1    [when, i, carri, heavi, thing, i, feel, like, ...\n",
       "2                              [much, pain, move, arm]\n",
       "3    [my, son, lip, pierc, swollen, skin, insid, li...\n",
       "4                        [my, muscl, lower, back, ach]\n",
       "Name: stem_words, dtype: object"
      ]
     },
     "execution_count": 14,
     "metadata": {},
     "output_type": "execute_result"
    }
   ],
   "source": [
    "df['stem_words']=df['clean_phrase'].apply(lambda x:stem_words(x) )\n",
    "df['stem_words'].head()"
   ]
  },
  {
   "cell_type": "markdown",
   "id": "01c920e7",
   "metadata": {},
   "source": [
    "# 3.5 lemmatisation "
   ]
  },
  {
   "cell_type": "code",
   "execution_count": 15,
   "id": "e64bb7ce",
   "metadata": {},
   "outputs": [],
   "source": [
    "wordnet_lemmatizer = WordNetLemmatizer()\n",
    "def lem_words(text):\n",
    "    lem=[wordnet_lemmatizer.lemmatize(w) for w in text]\n",
    "    return(lem)"
   ]
  },
  {
   "cell_type": "code",
   "execution_count": 16,
   "id": "d148124b",
   "metadata": {},
   "outputs": [
    {
     "data": {
      "text/plain": [
       "0                         [When, I, remember, I, feel]\n",
       "1    [When, I, carry, heavy, thing, I, feel, like, ...\n",
       "2                              [much, pain, move, arm]\n",
       "3    [My, son, lip, pierced, swollen, skin, inside,...\n",
       "4                    [My, muscle, lower, back, aching]\n",
       "Name: lemma_words, dtype: object"
      ]
     },
     "execution_count": 16,
     "metadata": {},
     "output_type": "execute_result"
    }
   ],
   "source": [
    "df['lemma_words']=df['clean_phrase'].apply(lambda x:lem_words(x) )\n",
    "df['lemma_words'].head()"
   ]
  },
  {
   "cell_type": "markdown",
   "id": "b1110c8d",
   "metadata": {},
   "source": [
    "## le clean text "
   ]
  },
  {
   "cell_type": "code",
   "execution_count": 17,
   "id": "69d91a09",
   "metadata": {},
   "outputs": [],
   "source": [
    "def clean_text(text):\n",
    " \n",
    "    \n",
    "    return \" \".join([wordnet_lemmatizer.lemmatize(w) for w  in text])"
   ]
  },
  {
   "cell_type": "code",
   "execution_count": 18,
   "id": "b3aabc2a",
   "metadata": {},
   "outputs": [
    {
     "data": {
      "text/plain": [
       "0                               When I remember I feel\n",
       "1    When I carry heavy thing I feel like breaking ...\n",
       "2                                   much pain move arm\n",
       "3    My son lip pierced swollen skin inside lip gre...\n",
       "4                          My muscle lower back aching\n",
       "Name: clean_text, dtype: object"
      ]
     },
     "execution_count": 18,
     "metadata": {},
     "output_type": "execute_result"
    }
   ],
   "source": [
    "df['clean_text']=df['lemma_words'].apply(lambda x:clean_text(x) )\n",
    "df['clean_text'].head()"
   ]
  },
  {
   "cell_type": "code",
   "execution_count": 19,
   "id": "fd95bb15",
   "metadata": {},
   "outputs": [
    {
     "data": {
      "text/html": [
       "<div>\n",
       "<style scoped>\n",
       "    .dataframe tbody tr th:only-of-type {\n",
       "        vertical-align: middle;\n",
       "    }\n",
       "\n",
       "    .dataframe tbody tr th {\n",
       "        vertical-align: top;\n",
       "    }\n",
       "\n",
       "    .dataframe thead th {\n",
       "        text-align: right;\n",
       "    }\n",
       "</style>\n",
       "<table border=\"1\" class=\"dataframe\">\n",
       "  <thead>\n",
       "    <tr style=\"text-align: right;\">\n",
       "      <th></th>\n",
       "      <th>prompt</th>\n",
       "      <th>phrase</th>\n",
       "      <th>clean_phrase</th>\n",
       "      <th>tokens_phrase</th>\n",
       "      <th>stem_words</th>\n",
       "      <th>lemma_words</th>\n",
       "      <th>clean_text</th>\n",
       "    </tr>\n",
       "  </thead>\n",
       "  <tbody>\n",
       "    <tr>\n",
       "      <th>0</th>\n",
       "      <td>Emotional pain</td>\n",
       "      <td>When I remember her I feel down</td>\n",
       "      <td>[When, I, remember, I, feel]</td>\n",
       "      <td>[When, I, remember, her, I, feel, down]</td>\n",
       "      <td>[when, i, rememb, i, feel]</td>\n",
       "      <td>[When, I, remember, I, feel]</td>\n",
       "      <td>When I remember I feel</td>\n",
       "    </tr>\n",
       "    <tr>\n",
       "      <th>1</th>\n",
       "      <td>Hair falling out</td>\n",
       "      <td>When I carry heavy things I feel like breaking...</td>\n",
       "      <td>[When, I, carry, heavy, things, I, feel, like,...</td>\n",
       "      <td>[When, I, carry, heavy, things, I, feel, like,...</td>\n",
       "      <td>[when, i, carri, heavi, thing, i, feel, like, ...</td>\n",
       "      <td>[When, I, carry, heavy, thing, I, feel, like, ...</td>\n",
       "      <td>When I carry heavy thing I feel like breaking ...</td>\n",
       "    </tr>\n",
       "    <tr>\n",
       "      <th>2</th>\n",
       "      <td>Heart hurts</td>\n",
       "      <td>there is too much pain when i move my arm</td>\n",
       "      <td>[much, pain, move, arm]</td>\n",
       "      <td>[there, is, too, much, pain, when, i, move, my...</td>\n",
       "      <td>[much, pain, move, arm]</td>\n",
       "      <td>[much, pain, move, arm]</td>\n",
       "      <td>much pain move arm</td>\n",
       "    </tr>\n",
       "    <tr>\n",
       "      <th>3</th>\n",
       "      <td>Infected wound</td>\n",
       "      <td>My son had his lip pierced and it is swollen a...</td>\n",
       "      <td>[My, son, lip, pierced, swollen, skin, inside,...</td>\n",
       "      <td>[My, son, had, his, lip, pierced, and, it, is,...</td>\n",
       "      <td>[my, son, lip, pierc, swollen, skin, insid, li...</td>\n",
       "      <td>[My, son, lip, pierced, swollen, skin, inside,...</td>\n",
       "      <td>My son lip pierced swollen skin inside lip gre...</td>\n",
       "    </tr>\n",
       "    <tr>\n",
       "      <th>4</th>\n",
       "      <td>Infected wound</td>\n",
       "      <td>My muscles in my lower back are aching</td>\n",
       "      <td>[My, muscles, lower, back, aching]</td>\n",
       "      <td>[My, muscles, in, my, lower, back, are, aching]</td>\n",
       "      <td>[my, muscl, lower, back, ach]</td>\n",
       "      <td>[My, muscle, lower, back, aching]</td>\n",
       "      <td>My muscle lower back aching</td>\n",
       "    </tr>\n",
       "    <tr>\n",
       "      <th>...</th>\n",
       "      <td>...</td>\n",
       "      <td>...</td>\n",
       "      <td>...</td>\n",
       "      <td>...</td>\n",
       "      <td>...</td>\n",
       "      <td>...</td>\n",
       "      <td>...</td>\n",
       "    </tr>\n",
       "    <tr>\n",
       "      <th>6645</th>\n",
       "      <td>Stomach ache</td>\n",
       "      <td>I feel a burning sensation in my guts about 2 ...</td>\n",
       "      <td>[I, feel, burning, sensation, guts, 2, hours, ...</td>\n",
       "      <td>[I, feel, a, burning, sensation, in, my, guts,...</td>\n",
       "      <td>[i, feel, burn, sensat, gut, 2, hour, meal]</td>\n",
       "      <td>[I, feel, burning, sensation, gut, 2, hour, meal]</td>\n",
       "      <td>I feel burning sensation gut 2 hour meal</td>\n",
       "    </tr>\n",
       "    <tr>\n",
       "      <th>6646</th>\n",
       "      <td>Open wound</td>\n",
       "      <td>I have a split on my thumb that will not heal.</td>\n",
       "      <td>[I, split, thumb, heal]</td>\n",
       "      <td>[I, have, a, split, on, my, thumb, that, will,...</td>\n",
       "      <td>[i, split, thumb, heal]</td>\n",
       "      <td>[I, split, thumb, heal]</td>\n",
       "      <td>I split thumb heal</td>\n",
       "    </tr>\n",
       "    <tr>\n",
       "      <th>6647</th>\n",
       "      <td>Joint pain</td>\n",
       "      <td>I feel a lot of pain in the joints.</td>\n",
       "      <td>[I, feel, lot, pain, joints]</td>\n",
       "      <td>[I, feel, a, lot, of, pain, in, the, joints]</td>\n",
       "      <td>[i, feel, lot, pain, joint]</td>\n",
       "      <td>[I, feel, lot, pain, joint]</td>\n",
       "      <td>I feel lot pain joint</td>\n",
       "    </tr>\n",
       "    <tr>\n",
       "      <th>6648</th>\n",
       "      <td>Heart hurts</td>\n",
       "      <td>The area around my heart doesn't feel good.</td>\n",
       "      <td>[The, area, around, heart, doesnt, feel, good]</td>\n",
       "      <td>[The, area, around, my, heart, doesnt, feel, g...</td>\n",
       "      <td>[the, area, around, heart, doesnt, feel, good]</td>\n",
       "      <td>[The, area, around, heart, doesnt, feel, good]</td>\n",
       "      <td>The area around heart doesnt feel good</td>\n",
       "    </tr>\n",
       "    <tr>\n",
       "      <th>6649</th>\n",
       "      <td>Skin issue</td>\n",
       "      <td>I complain alot with skin allergy</td>\n",
       "      <td>[I, complain, alot, skin, allergy]</td>\n",
       "      <td>[I, complain, alot, with, skin, allergy]</td>\n",
       "      <td>[i, complain, alot, skin, allergi]</td>\n",
       "      <td>[I, complain, alot, skin, allergy]</td>\n",
       "      <td>I complain alot skin allergy</td>\n",
       "    </tr>\n",
       "  </tbody>\n",
       "</table>\n",
       "<p>6650 rows × 7 columns</p>\n",
       "</div>"
      ],
      "text/plain": [
       "                prompt                                             phrase  \\\n",
       "0       Emotional pain                    When I remember her I feel down   \n",
       "1     Hair falling out  When I carry heavy things I feel like breaking...   \n",
       "2          Heart hurts          there is too much pain when i move my arm   \n",
       "3       Infected wound  My son had his lip pierced and it is swollen a...   \n",
       "4       Infected wound             My muscles in my lower back are aching   \n",
       "...                ...                                                ...   \n",
       "6645      Stomach ache  I feel a burning sensation in my guts about 2 ...   \n",
       "6646        Open wound     I have a split on my thumb that will not heal.   \n",
       "6647        Joint pain                I feel a lot of pain in the joints.   \n",
       "6648       Heart hurts        The area around my heart doesn't feel good.   \n",
       "6649        Skin issue                  I complain alot with skin allergy   \n",
       "\n",
       "                                           clean_phrase  \\\n",
       "0                          [When, I, remember, I, feel]   \n",
       "1     [When, I, carry, heavy, things, I, feel, like,...   \n",
       "2                               [much, pain, move, arm]   \n",
       "3     [My, son, lip, pierced, swollen, skin, inside,...   \n",
       "4                    [My, muscles, lower, back, aching]   \n",
       "...                                                 ...   \n",
       "6645  [I, feel, burning, sensation, guts, 2, hours, ...   \n",
       "6646                            [I, split, thumb, heal]   \n",
       "6647                       [I, feel, lot, pain, joints]   \n",
       "6648     [The, area, around, heart, doesnt, feel, good]   \n",
       "6649                 [I, complain, alot, skin, allergy]   \n",
       "\n",
       "                                          tokens_phrase  \\\n",
       "0               [When, I, remember, her, I, feel, down]   \n",
       "1     [When, I, carry, heavy, things, I, feel, like,...   \n",
       "2     [there, is, too, much, pain, when, i, move, my...   \n",
       "3     [My, son, had, his, lip, pierced, and, it, is,...   \n",
       "4       [My, muscles, in, my, lower, back, are, aching]   \n",
       "...                                                 ...   \n",
       "6645  [I, feel, a, burning, sensation, in, my, guts,...   \n",
       "6646  [I, have, a, split, on, my, thumb, that, will,...   \n",
       "6647       [I, feel, a, lot, of, pain, in, the, joints]   \n",
       "6648  [The, area, around, my, heart, doesnt, feel, g...   \n",
       "6649           [I, complain, alot, with, skin, allergy]   \n",
       "\n",
       "                                             stem_words  \\\n",
       "0                            [when, i, rememb, i, feel]   \n",
       "1     [when, i, carri, heavi, thing, i, feel, like, ...   \n",
       "2                               [much, pain, move, arm]   \n",
       "3     [my, son, lip, pierc, swollen, skin, insid, li...   \n",
       "4                         [my, muscl, lower, back, ach]   \n",
       "...                                                 ...   \n",
       "6645        [i, feel, burn, sensat, gut, 2, hour, meal]   \n",
       "6646                            [i, split, thumb, heal]   \n",
       "6647                        [i, feel, lot, pain, joint]   \n",
       "6648     [the, area, around, heart, doesnt, feel, good]   \n",
       "6649                 [i, complain, alot, skin, allergi]   \n",
       "\n",
       "                                            lemma_words  \\\n",
       "0                          [When, I, remember, I, feel]   \n",
       "1     [When, I, carry, heavy, thing, I, feel, like, ...   \n",
       "2                               [much, pain, move, arm]   \n",
       "3     [My, son, lip, pierced, swollen, skin, inside,...   \n",
       "4                     [My, muscle, lower, back, aching]   \n",
       "...                                                 ...   \n",
       "6645  [I, feel, burning, sensation, gut, 2, hour, meal]   \n",
       "6646                            [I, split, thumb, heal]   \n",
       "6647                        [I, feel, lot, pain, joint]   \n",
       "6648     [The, area, around, heart, doesnt, feel, good]   \n",
       "6649                 [I, complain, alot, skin, allergy]   \n",
       "\n",
       "                                             clean_text  \n",
       "0                                When I remember I feel  \n",
       "1     When I carry heavy thing I feel like breaking ...  \n",
       "2                                    much pain move arm  \n",
       "3     My son lip pierced swollen skin inside lip gre...  \n",
       "4                           My muscle lower back aching  \n",
       "...                                                 ...  \n",
       "6645           I feel burning sensation gut 2 hour meal  \n",
       "6646                                 I split thumb heal  \n",
       "6647                              I feel lot pain joint  \n",
       "6648             The area around heart doesnt feel good  \n",
       "6649                       I complain alot skin allergy  \n",
       "\n",
       "[6650 rows x 7 columns]"
      ]
     },
     "execution_count": 19,
     "metadata": {},
     "output_type": "execute_result"
    }
   ],
   "source": [
    "df"
   ]
  },
  {
   "cell_type": "markdown",
   "id": "968a4ce7",
   "metadata": {},
   "source": [
    "# 4.Représentation des données : "
   ]
  },
  {
   "cell_type": "markdown",
   "id": "e91e988e",
   "metadata": {},
   "source": [
    "## la représentation TF-IDF"
   ]
  },
  {
   "cell_type": "code",
   "execution_count": 20,
   "id": "a59ee6c7",
   "metadata": {},
   "outputs": [],
   "source": [
    "from sklearn.feature_extraction.text import TfidfVectorizer"
   ]
  },
  {
   "cell_type": "code",
   "execution_count": 21,
   "id": "5a26c3ad",
   "metadata": {},
   "outputs": [],
   "source": [
    "vect = TfidfVectorizer()"
   ]
  },
  {
   "cell_type": "code",
   "execution_count": 22,
   "id": "21a578e9",
   "metadata": {},
   "outputs": [],
   "source": [
    "X = df['phrase'] \n",
    "y = df['prompt'] "
   ]
  },
  {
   "cell_type": "code",
   "execution_count": 23,
   "id": "bd726895",
   "metadata": {},
   "outputs": [],
   "source": [
    "X = vect.fit_transform(X)"
   ]
  },
  {
   "cell_type": "code",
   "execution_count": 24,
   "id": "b7c5864e",
   "metadata": {},
   "outputs": [
    {
     "data": {
      "text/plain": [
       "array([[0., 0., 0., ..., 0., 0., 0.],\n",
       "       [0., 0., 0., ..., 0., 0., 0.],\n",
       "       [0., 0., 0., ..., 0., 0., 0.],\n",
       "       ...,\n",
       "       [0., 0., 0., ..., 0., 0., 0.],\n",
       "       [0., 0., 0., ..., 0., 0., 0.],\n",
       "       [0., 0., 0., ..., 0., 0., 0.]])"
      ]
     },
     "execution_count": 24,
     "metadata": {},
     "output_type": "execute_result"
    }
   ],
   "source": [
    "X.toarray()"
   ]
  },
  {
   "cell_type": "code",
   "execution_count": 26,
   "id": "29a82363",
   "metadata": {},
   "outputs": [],
   "source": [
    "counts = df['prompt'].value_counts()"
   ]
  },
  {
   "cell_type": "code",
   "execution_count": 36,
   "id": "60a80c0f",
   "metadata": {},
   "outputs": [
    {
     "data": {
      "image/png": "[encoded data removed]",
      "text/plain": [
       "<Figure size 1200x800 with 1 Axes>"
      ]
     },
     "metadata": {},
     "output_type": "display_data"
    }
   ],
   "source": [
    "fig = plt.figure(figsize=(12, 8))\n",
    "plt.bar(counts.index, counts.values)\n",
    "plt.xlabel('Maladies')\n",
    "plt.ylabel('Nombre de cas')\n",
    "plt.title('Distribution des maladies dans le dataset')\n",
    "\n",
    "plt.xticks(rotation=90)\n",
    "plt.tight_layout()\n",
    "\n",
    "plt.show()"
   ]
  },
  {
   "cell_type": "markdown",
   "id": "aa551a20",
   "metadata": {},
   "source": [
    "# 5.Division des données :"
   ]
  },
  {
   "cell_type": "code",
   "execution_count": null,
   "id": "72d637fb",
   "metadata": {},
   "outputs": [],
   "source": [
    "from sklearn.model_selection import train_test_split\n",
    "X_train, X_test, y_train, y_test = train_test_split(X, y, test_size=0.2, random_state=42)"
   ]
  },
  {
   "cell_type": "markdown",
   "id": "71d6dde7",
   "metadata": {},
   "source": [
    "# 6.Construction du modèle :"
   ]
  },
  {
   "cell_type": "markdown",
   "id": "33ca8670",
   "metadata": {},
   "source": [
    "### SVM"
   ]
  },
  {
   "cell_type": "code",
   "execution_count": 24,
   "id": "f333524a",
   "metadata": {},
   "outputs": [
    {
     "data": {
      "text/plain": [
       "SVC(C=1, kernel='linear')"
      ]
     },
     "execution_count": 24,
     "metadata": {},
     "output_type": "execute_result"
    }
   ],
   "source": [
    "from sklearn.svm import SVC\n",
    "model = SVC(kernel='linear', C = 1)\n",
    "model.fit(X_train, y_train)"
   ]
  },
  {
   "cell_type": "code",
   "execution_count": 25,
   "id": "2add1ba8",
   "metadata": {},
   "outputs": [],
   "source": [
    "y_pred = model.predict(X_test)"
   ]
  },
  {
   "cell_type": "code",
   "execution_count": 26,
   "id": "7e86726f",
   "metadata": {},
   "outputs": [
    {
     "name": "stdout",
     "output_type": "stream",
     "text": [
      "Accuracy: 0.9947368421052631\n"
     ]
    }
   ],
   "source": [
    "from sklearn.metrics import accuracy_score\n",
    "accuracy = accuracy_score(y_test, y_pred)\n",
    "\n",
    "print('Accuracy:', accuracy)\n"
   ]
  },
  {
   "cell_type": "markdown",
   "id": "40a878ad",
   "metadata": {},
   "source": [
    "## Naive Bayes"
   ]
  },
  {
   "cell_type": "code",
   "execution_count": 27,
   "id": "1100a588",
   "metadata": {},
   "outputs": [
    {
     "data": {
      "text/plain": [
       "MultinomialNB()"
      ]
     },
     "execution_count": 27,
     "metadata": {},
     "output_type": "execute_result"
    }
   ],
   "source": [
    "from sklearn.naive_bayes import MultinomialNB\n",
    "nb_model = MultinomialNB()\n",
    "nb_model.fit(X_train, y_train)"
   ]
  },
  {
   "cell_type": "code",
   "execution_count": 28,
   "id": "68d49f85",
   "metadata": {},
   "outputs": [],
   "source": [
    "y_pred = nb_model.predict(X_test)\n"
   ]
  },
  {
   "cell_type": "code",
   "execution_count": 29,
   "id": "908cb98b",
   "metadata": {},
   "outputs": [
    {
     "name": "stdout",
     "output_type": "stream",
     "text": [
      "Accuracy: 0.98796992481203\n"
     ]
    }
   ],
   "source": [
    "from sklearn.metrics import accuracy_score\n",
    "accuracy = accuracy_score(y_test, y_pred)\n",
    "\n",
    "print('Accuracy:', accuracy)\n"
   ]
  },
  {
   "cell_type": "markdown",
   "id": "b4ad6e69",
   "metadata": {},
   "source": [
    "# 8.Prédiction :"
   ]
  },
  {
   "cell_type": "code",
   "execution_count": 30,
   "id": "6937ed60",
   "metadata": {},
   "outputs": [],
   "source": [
    "new_phrase = \"  my throat is pain \""
   ]
  },
  {
   "cell_type": "code",
   "execution_count": 31,
   "id": "abda7aaa",
   "metadata": {},
   "outputs": [],
   "source": [
    "new_phrase_tfidf = vect.transform([new_phrase])"
   ]
  },
  {
   "cell_type": "code",
   "execution_count": 32,
   "id": "80b59703",
   "metadata": {},
   "outputs": [
    {
     "data": {
      "text/plain": [
       "array(['Cough'], dtype=object)"
      ]
     },
     "execution_count": 32,
     "metadata": {},
     "output_type": "execute_result"
    }
   ],
   "source": [
    " model.predict(new_phrase_tfidf)"
   ]
  },
  {
   "cell_type": "code",
   "execution_count": 33,
   "id": "413c1786",
   "metadata": {},
   "outputs": [
    {
     "data": {
      "text/plain": [
       "array(['Cough'], dtype='<U18')"
      ]
     },
     "execution_count": 33,
     "metadata": {},
     "output_type": "execute_result"
    }
   ],
   "source": [
    "nb_model.predict(new_phrase_tfidf)"
   ]
  },
  {
   "cell_type": "markdown",
   "id": "a642b73c",
   "metadata": {},
   "source": [
    "# 9.Enregister le model et le vectoriseur"
   ]
  },
  {
   "cell_type": "code",
   "execution_count": 34,
   "id": "d3408506",
   "metadata": {},
   "outputs": [],
   "source": [
    "import joblib"
   ]
  },
  {
   "cell_type": "code",
   "execution_count": 35,
   "id": "21ea02b8",
   "metadata": {},
   "outputs": [
    {
     "data": {
      "text/plain": [
       "['modele.pkl']"
      ]
     },
     "execution_count": 35,
     "metadata": {},
     "output_type": "execute_result"
    }
   ],
   "source": [
    "joblib.dump(model, 'modele.pkl')"
   ]
  },
  {
   "cell_type": "code",
   "execution_count": 36,
   "id": "284bcdf0",
   "metadata": {},
   "outputs": [
    {
     "data": {
      "text/plain": [
       "['vectoriseur.pkl']"
      ]
     },
     "execution_count": 36,
     "metadata": {},
     "output_type": "execute_result"
    }
   ],
   "source": [
    "joblib.dump(vect, 'vectoriseur.pkl')"
   ]
  }
 ],
 "metadata": {
  "kernelspec": {
   "display_name": "Python 3 (ipykernel)",
   "language": "python",
   "name": "python3"
  },
  "language_info": {
   "codemirror_mode": {
    "name": "ipython",
    "version": 3
   },
   "file_extension": ".py",
   "mimetype": "text/x-python",
   "name": "python",
   "nbconvert_exporter": "python",
   "pygments_lexer": "ipython3",
   "version": "3.9.13"
  }
 },
 "nbformat": 4,
 "nbformat_minor": 5
}
